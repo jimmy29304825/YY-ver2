{
 "cells": [
  {
   "cell_type": "code",
   "execution_count": 12,
   "metadata": {},
   "outputs": [],
   "source": [
    "from germination.yy_class import germination, callDB, par\n",
    "import matplotlib.pyplot as plt\n",
    "import uuid\n",
    "import pandas as pd\n",
    "from datetime import timedelta\n",
    "from linebot.models import TextSendMessage\n",
    "from linebot import (\n",
    "    LineBotApi, WebhookHandler\n",
    ")\n",
    "import json\n",
    "\n",
    "secretFileContentJson=json.load(open(\"D:/YY_DASH/line/line_secret_key\",'r'))  # 載入line_secret_key資訊\n",
    "server_url=secretFileContentJson.get(\"server_url\")  # 讀取webhooks網址\n",
    "\n",
    "line_bot_api = LineBotApi(secretFileContentJson.get(\"channel_access_token\"))  # 讀取line channel_access_token\n",
    "handler = WebhookHandler(secretFileContentJson.get(\"secret_key\"))  # 讀取line secret_key"
   ]
  },
  {
   "cell_type": "code",
   "execution_count": 17,
   "metadata": {},
   "outputs": [
    {
     "name": "stdout",
     "output_type": "stream",
     "text": [
      "960 587 61.15\n",
      "0.8\n",
      "12GK4 2020-09-09\n",
      "[0, 0]\n",
      "[0, 0] 960\n",
      "補播\n",
      "3 片 0.18854166666666672\n",
      "應補播3片\n"
     ]
    }
   ],
   "source": [
    "dbcnt = callDB('127.0.0.1', 3306, 'root', 'yyos12345678', 'yyostech_2')\n",
    "productionid = '200910028'\n",
    "res_data = dbcnt.get_summary(productionid)\n",
    "total_sponge = sum(x[3] for x in res_data)*12*8\n",
    "sum_n = sum(x[4] for x in res_data)\n",
    "total_perecnt = round((sum_n/total_sponge)*100, 2)\n",
    "print(total_sponge, sum_n, total_perecnt)\n",
    "parameter = dbcnt.get_parameter(productionid)\n",
    "nursery_rate = parameter[4]\n",
    "thinning_rate = parameter[5]\n",
    "cultivation_rate = parameter[6]\n",
    "print(nursery_rate)\n",
    "if nursery_rate >= sum_n/total_sponge:  # 沒達到：加上昨天的播種紀錄計算發芽率是否有達到 nursery_rate\n",
    "    lastday = str(parameter[7] - timedelta(days=1))\n",
    "    print(parameter[0], lastday)\n",
    "    data = dbcnt.get_lastday(parameter[0], lastday)\n",
    "    if data[0] == None:\n",
    "        data = [0, 0]\n",
    "    print(data)\n",
    "    print(data, total_sponge)\n",
    "    new_total_sponge = (data[1]*96)+total_sponge\n",
    "    new_ger_cnt = data[0]+sum_n\n",
    "    if nursery_rate >= new_ger_cnt/new_total_sponge:  # 未達標：計算要播幾片 nursery_rate thinning_rate cultivation_rate\n",
    "        print('補播')\n",
    "        less_cnt = int(new_total_sponge * nursery_rate) - new_ger_cnt # 缺\n",
    "        less_piece = int((((less_cnt / thinning_rate / cultivation_rate) + 1) // 96) + 1)\n",
    "        less_per = (float(nursery_rate) - float(new_ger_cnt/new_total_sponge))\n",
    "        # less_cnt = 96 / less_per / nursery_rate / thinning_rate / cultivation_rate\n",
    "        # print(less_per, less_cnt)\n",
    "        # less_piece = int(round((less_cnt / 96), 0))\n",
    "        \n",
    "        print(less_piece, '片', less_per)\n",
    "        text = f'''[發芽率異常通報]\\n生產序號：{productionid} ({parameter[0]})\\n共播種{total_sponge:,d}株，發芽{sum_n:,d}株，\\n發芽率{total_perecnt:.2f}%，\\n未達到育苗標準{nursery_rate*100}%，\\n統計昨日{parameter[0]}播種紀錄，\\n(播{int(data[0]):,d}株，發芽{int(data[1]):,d}株)，\\n仍差{less_per*100:.2f}%，應補播{less_piece}片。'''\n",
    "        text_for_dash = f'應補播{less_piece}片'\n",
    "        line_bot_api.push_message('C14c1eebfb9938766f5ef01216c4cc003', TextSendMessage(text=text))\n",
    "        print(text_for_dash)\n",
    "#         dash_status = html.H4('發芽情況：{}'.format(text_for_dash), className=\"card-text\")\n",
    "    else:\n",
    "        text_for_dash = '正常'\n",
    "#         dash_status = html.P('發芽情況：{}'.format(text_for_dash), className=\"card-text\")\n",
    "        print(text_for_dash)\n",
    "else:\n",
    "    text_for_dash = '正常'\n",
    "    print(text_for_dash)\n",
    "#     dash_status = html.P('發芽情況：{}'.format(text_for_dash), className=\"card-text\")"
   ]
  },
  {
   "cell_type": "code",
   "execution_count": 7,
   "metadata": {},
   "outputs": [],
   "source": [
    "\n",
    "productionid = '200903009'\n",
    "dbcnt = callDB('127.0.0.1', 3306, 'root', 'yyos12345678', 'yyostech_2')\n",
    "par = par('192.168.50.87', 22, 'pi', 'Jimmy8193026')"
   ]
  },
  {
   "cell_type": "code",
   "execution_count": 3,
   "metadata": {},
   "outputs": [],
   "source": [
    "image, photoid, piece = dbcnt.get_use_photo()"
   ]
  },
  {
   "cell_type": "code",
   "execution_count": 4,
   "metadata": {},
   "outputs": [],
   "source": [
    "data = dbcnt.get_parameter(productionid)"
   ]
  },
  {
   "cell_type": "code",
   "execution_count": 5,
   "metadata": {},
   "outputs": [
    {
     "name": "stdout",
     "output_type": "stream",
     "text": [
      "process ok\n",
      "sponge ok\n"
     ]
    },
    {
     "name": "stderr",
     "output_type": "stream",
     "text": [
      "C:\\Users\\wen\\anaconda3\\envs\\yyostech\\lib\\site-packages\\pymysql\\cursors.py:170: Warning: (1300, \"Invalid utf8mb4 character string: 'FFD8FF'\")\n",
      "  result = self._query(query)\n"
     ]
    }
   ],
   "source": [
    "series_id = data[0]\n",
    "thresholds = data[3]\n",
    "percent = data[2]\n",
    "ger = germination(series_id, percent, piece)\n",
    "res, ger_cnt = ger.identify(image)\n",
    "non_ger_cnt = piece*96 - ger_cnt\n",
    "# 儲存結果\n",
    "processid = 'process_'+uuid.uuid1().hex\n",
    "process_record = (processid, productionid, photoid, piece, ger_cnt)\n",
    "dbcnt.save_germination_record(process_record, ger.result_list)"
   ]
  },
  {
   "cell_type": "code",
   "execution_count": 20,
   "metadata": {},
   "outputs": [
    {
     "ename": "TypeError",
     "evalue": "tuple indices must be integers or slices, not tuple",
     "output_type": "error",
     "traceback": [
      "\u001b[1;31m---------------------------------------------------------------------------\u001b[0m",
      "\u001b[1;31mTypeError\u001b[0m                                 Traceback (most recent call last)",
      "\u001b[1;32m<ipython-input-20-deb3c2aa056e>\u001b[0m in \u001b[0;36m<module>\u001b[1;34m\u001b[0m\n\u001b[1;32m----> 1\u001b[1;33m \u001b[0mprocess_record\u001b[0m\u001b[1;33m[\u001b[0m\u001b[1;32mTrue\u001b[0m\u001b[1;33m,\u001b[0m \u001b[1;32mTrue\u001b[0m\u001b[1;33m,\u001b[0m \u001b[1;32mTrue\u001b[0m\u001b[1;33m,\u001b[0m \u001b[1;32mFalse\u001b[0m\u001b[1;33m,\u001b[0m \u001b[1;32mTrue\u001b[0m\u001b[1;33m]\u001b[0m\u001b[1;33m\u001b[0m\u001b[1;33m\u001b[0m\u001b[0m\n\u001b[0m",
      "\u001b[1;31mTypeError\u001b[0m: tuple indices must be integers or slices, not tuple"
     ]
    }
   ],
   "source": [
    "process_record[True, True, True, False, True]"
   ]
  },
  {
   "cell_type": "code",
   "execution_count": 20,
   "metadata": {},
   "outputs": [],
   "source": [
    "from datetime import timedelta\n",
    "from plotly.subplots import make_subplots\n",
    "import plotly.graph_objects as go\n",
    "start = '2020-5-01'\n",
    "end = '2020-08-31'\n",
    "\n",
    "data = dbcnt.get_dashboard_data(start, end)\n",
    "df = pd.DataFrame(data, columns=['生產序號', '作物編號', '播種日期', '出貨日期', '品種名稱', '需求客戶', '播種數量', '發芽數量', '發芽率'])\n",
    "df['播種日期'] = pd.to_datetime(df['播種日期'])\n",
    "df['出貨日期'] = pd.to_datetime(df['出貨日期'])\n",
    "df_use = df.query(f'播種日期 >= \"{start}\" and 播種日期 <= \"{end}\"')\n",
    "fig1 = df_use.groupby('播種日期').sum()[['播種數量', '發芽數量']].reset_index()\n",
    "x = fig1['播種日期'].to_list()\n",
    "x = x + [max(x) + timedelta(days=5)]\n",
    "x.sort()\n",
    "ycnt = fig1['播種數量'].to_list() + [None]\n",
    "yper = ((fig1['發芽數量'] / fig1['播種數量']) * 100).to_list() + [None]\n",
    "germination_graph = make_subplots(specs=[[{\"secondary_y\": True}]])\n",
    "germination_graph.add_trace(go.Scatter(x=x, y=yper, name='每日發芽率'))\n",
    "germination_graph.add_trace(go.Bar(x=x, y=ycnt, name='每日播種數量'), secondary_y=True)\n",
    "germination_graph.update_layout(title='整體發芽率走勢圖',\n",
    "                  xaxis_title='date',\n",
    "                  yaxis_title='發芽率')\n",
    "germination_graph.update_yaxes(range=[0, 120], secondary_y=False)\n",
    "germination_graph.update_yaxes(range=[0, int(float(max(fig1['播種數量'].to_list())) * 1.5)], secondary_y=True)\n",
    "\n",
    "# 品種資料\n",
    "series = df_use.groupby(['作物編號', '品種名稱']).sum().sort_values('播種數量', ascending=False).reset_index()[['作物編號', '品種名稱']].to_numpy()\n",
    "colors = [\"primary\", \"secondary\", \"success\", \"warning\", \"danger\", \"info\"]\n",
    "ser_list = []\n"
   ]
  },
  {
   "cell_type": "code",
   "execution_count": 22,
   "metadata": {},
   "outputs": [],
   "source": [
    "def series_data(serie_name, serie_id, x, ycnt, yper, y_total_per, max_y):\n",
    "    fig = make_subplots(specs=[[{\"secondary_y\": True}]])\n",
    "    fig.add_trace(go.Scatter(x=x, y=yper, name='每日發芽率'))\n",
    "    fig.add_trace(go.Bar(x=x, y=ycnt, name='每日播種數量'), secondary_y=True)\n",
    "    fig.update_yaxes(range=[0, 120], secondary_y=False)\n",
    "    fig.update_yaxes(range=[0, max_y], secondary_y=True)\n",
    "    fig.update_layout(\n",
    "        margin={'t': 20, 'b': 5, 'r': 5, 'l': 5},\n",
    "        legend=dict(orientation='h'),\n",
    "        title=f'{serie_name}播種數量統計趨勢圖',\n",
    "        height=150\n",
    "    )\n",
    "    text = html.Div(\n",
    "        [\n",
    "            html.H4(f'{serie_name} ({serie_id})'),\n",
    "            html.H5(children=f'{int(sum(ycnt[:-1])):,d}株'),\n",
    "            html.H5(children=f'{y_total_per:.2f}%'),\n",
    "        ]\n",
    "    )\n",
    "    res = dbc.Row(\n",
    "        [\n",
    "            dbc.Col(text, width=3),\n",
    "            dbc.Col(dcc.Graph(figure=fig), width=9)\n",
    "        ],\n",
    "        justify=\"between\"\n",
    "    )\n",
    "    return res"
   ]
  },
  {
   "cell_type": "code",
   "execution_count": 23,
   "metadata": {},
   "outputs": [],
   "source": [
    "import dash_core_components as dcc\n",
    "import dash_html_components as html\n",
    "import dash_bootstrap_components as dbc"
   ]
  },
  {
   "cell_type": "code",
   "execution_count": 61,
   "metadata": {},
   "outputs": [
    {
     "name": "stdout",
     "output_type": "stream",
     "text": [
      "裂葉芝麻葉 13G11 0.8598756218905472636815920398 19584\n",
      "蘿勒 13G26 0.6244918699186991869918699187 3168\n",
      "山葵菜 12GK4 0.7750651041666666666666666667 1728\n",
      "奶油波士頓 11G43 0.9967447916666666666666666667 2304\n"
     ]
    }
   ],
   "source": [
    "for serie, color in zip(series, colors):\n",
    "#     print(serie, color)\n",
    "    serie_id = serie[0]\n",
    "    df_serie = df_use.query(f'作物編號 == \"{serie_id}\"')\n",
    "    serie_name = df_serie['品種名稱'].iloc[0]\n",
    "    fig1 = df_serie.groupby('播種日期').sum()[['播種數量', '發芽數量']].reset_index()\n",
    "    x = fig1['播種日期'].to_list()\n",
    "    x = x + [max(x) + timedelta(days=5)]\n",
    "    x.sort()\n",
    "    ycnt = fig1['發芽數量'].to_list() + [None]\n",
    "    yper = ((fig1['發芽數量'] / fig1['播種數量']) * 100).to_list() + [None]\n",
    "    y_total_per = sum(ycnt[:-1]) / fig1['播種數量'].sum()\n",
    "    max_y = int(float(max(fig1['播種數量'].to_list())) * 1.5)\n",
    "    print(serie_name, serie_id, y_total_per, max_y)\n",
    "    res = series_data(serie_name, serie_id, x, ycnt, yper, y_total_per, max_y)\n",
    "    ser_list.append(dbc.ListGroupItem(res, color=color))\n"
   ]
  },
  {
   "cell_type": "code",
   "execution_count": 55,
   "metadata": {},
   "outputs": [],
   "source": [
    "serie = ['13G11', '裂葉芝麻葉']\n",
    "color = 'primary'\n",
    "serie_id = serie[0]\n",
    "df_serie = df_use.query(f'作物編號 == \"{serie_id}\"')\n",
    "serie_name = df_serie['品種名稱'].iloc[0]\n",
    "fig1 = df_use.groupby('播種日期').sum()[['播種數量', '發芽數量']].reset_index()\n",
    "x = fig1['播種日期'].to_list()\n",
    "x = x + [max(x) + timedelta(days=5)]\n",
    "x.sort()\n",
    "ycnt = fig1['發芽數量'].to_list() + [None]\n",
    "yper = ((fig1['發芽數量'] / fig1['播種數量']) * 100).to_list() + [None]\n",
    "y_total_per = sum(ycnt[:-1]) / fig1['播種數量'].sum()\n",
    "max_y = int(float(max(fig1['播種數量'].to_list())) * 1.5)"
   ]
  },
  {
   "cell_type": "code",
   "execution_count": 59,
   "metadata": {},
   "outputs": [
    {
     "data": {
      "text/plain": [
       "0      2688\n",
       "1      5376\n",
       "2      6528\n",
       "3     13056\n",
       "4      4992\n",
       "5      5376\n",
       "6      6528\n",
       "7      9984\n",
       "8      4992\n",
       "9      3456\n",
       "10    11136\n",
       "11     4224\n",
       "12    12288\n",
       "13     4608\n",
       "14     4992\n",
       "15     3072\n",
       "16     3072\n",
       "17     4800\n",
       "18     4992\n",
       "19     7008\n",
       "20     7008\n",
       "21     1632\n",
       "22     8064\n",
       "23     3840\n",
       "24     1728\n",
       "25     7008\n",
       "26     4128\n",
       "27     3648\n",
       "28     7008\n",
       "29     2112\n",
       "Name: 播種數量, dtype: object"
      ]
     },
     "execution_count": 59,
     "metadata": {},
     "output_type": "execute_result"
    }
   ],
   "source": [
    "fig1['播種數量']"
   ]
  },
  {
   "cell_type": "code",
   "execution_count": 3,
   "metadata": {},
   "outputs": [
    {
     "name": "stdout",
     "output_type": "stream",
     "text": [
      "['rgb(141,211,199)', 'rgb(255,255,179)', 'rgb(190,186,218)', 'rgb(251,128,114)', 'rgb(128,177,211)', 'rgb(253,180,98)', 'rgb(179,222,105)', 'rgb(252,205,229)', 'rgb(217,217,217)', 'rgb(188,128,189)', 'rgb(204,235,197)', 'rgb(255,237,111)']\n"
     ]
    }
   ],
   "source": [
    "import plotly.express as px\n",
    "\n",
    "print(px.colors.qualitative.Set3)"
   ]
  }
 ],
 "metadata": {
  "kernelspec": {
   "display_name": "Python 3",
   "language": "python",
   "name": "python3"
  },
  "language_info": {
   "codemirror_mode": {
    "name": "ipython",
    "version": 3
   },
   "file_extension": ".py",
   "mimetype": "text/x-python",
   "name": "python",
   "nbconvert_exporter": "python",
   "pygments_lexer": "ipython3",
   "version": "3.7.7"
  }
 },
 "nbformat": 4,
 "nbformat_minor": 4
}
